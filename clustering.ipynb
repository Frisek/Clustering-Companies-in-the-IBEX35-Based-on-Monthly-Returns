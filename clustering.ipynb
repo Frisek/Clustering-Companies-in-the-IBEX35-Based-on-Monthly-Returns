{
 "cells": [
  {
   "cell_type": "markdown",
   "metadata": {},
   "source": [
    "## Machine Learning\n",
    "### Clustering"
   ]
  },
  {
   "cell_type": "markdown",
   "metadata": {},
   "source": [
    "Este cuaderno muestra un ejemplo de como hacer clustering de las empresas del IBEX35 en función\n",
    "de sus rendimientos mensuales, utilizando el algoritmo K-Means"
   ]
  },
  {
   "cell_type": "code",
   "execution_count": 1,
   "metadata": {},
   "outputs": [],
   "source": [
    "import numpy as np\n",
    "import pandas as pd\n",
    "\n",
    "import matplotlib.pyplot as plt"
   ]
  },
  {
   "cell_type": "code",
   "execution_count": 2,
   "metadata": {},
   "outputs": [],
   "source": [
    "import pickle"
   ]
  },
  {
   "cell_type": "markdown",
   "metadata": {},
   "source": [
    "Pickle con las series históricas de los componentes del IBEX35"
   ]
  },
  {
   "cell_type": "code",
   "execution_count": 3,
   "metadata": {},
   "outputs": [],
   "source": [
    "with open('../data/stock_data.pkl', 'rb') as handle:\n",
    "    stock_data = pickle.load(handle)"
   ]
  },
  {
   "cell_type": "code",
   "execution_count": 4,
   "metadata": {},
   "outputs": [],
   "source": [
    "close_dict = {ticker: df.close for ticker, df in stock_data.items()} \n",
    "close_data = pd.DataFrame(close_dict) "
   ]
  },
  {
   "cell_type": "markdown",
   "metadata": {},
   "source": [
    "Haremos clustering de las empresas del IBEX tomando \n",
    "como características las rentabilidades mensuales del último\n",
    "año"
   ]
  },
  {
   "cell_type": "code",
   "execution_count": 5,
   "metadata": {},
   "outputs": [],
   "source": [
    "close_df = close_data['2018-01-02':]"
   ]
  },
  {
   "cell_type": "code",
   "execution_count": 6,
   "metadata": {},
   "outputs": [],
   "source": [
    "month_close = close_df.resample('M').last().dropna(axis=1)\n",
    "month_ret = month_close.pct_change()[1:]"
   ]
  },
  {
   "cell_type": "code",
   "execution_count": 7,
   "metadata": {},
   "outputs": [
    {
     "data": {
      "text/html": [
       "<div>\n",
       "<style scoped>\n",
       "    .dataframe tbody tr th:only-of-type {\n",
       "        vertical-align: middle;\n",
       "    }\n",
       "\n",
       "    .dataframe tbody tr th {\n",
       "        vertical-align: top;\n",
       "    }\n",
       "\n",
       "    .dataframe thead th {\n",
       "        text-align: right;\n",
       "    }\n",
       "</style>\n",
       "<table border=\"1\" class=\"dataframe\">\n",
       "  <thead>\n",
       "    <tr style=\"text-align: right;\">\n",
       "      <th></th>\n",
       "      <th>ACS</th>\n",
       "      <th>ACX</th>\n",
       "      <th>AENA</th>\n",
       "      <th>AMS</th>\n",
       "      <th>ANA</th>\n",
       "      <th>BBVA</th>\n",
       "      <th>BKIA</th>\n",
       "      <th>BKT</th>\n",
       "      <th>CABK</th>\n",
       "      <th>CLNX</th>\n",
       "      <th>...</th>\n",
       "      <th>NTGY</th>\n",
       "      <th>REE</th>\n",
       "      <th>REP</th>\n",
       "      <th>SAB</th>\n",
       "      <th>SAN</th>\n",
       "      <th>SGRE</th>\n",
       "      <th>TEF</th>\n",
       "      <th>TL5</th>\n",
       "      <th>TRE</th>\n",
       "      <th>VIS</th>\n",
       "    </tr>\n",
       "  </thead>\n",
       "  <tbody>\n",
       "    <tr>\n",
       "      <th>2018-02-28</th>\n",
       "      <td>-0.121823</td>\n",
       "      <td>0.027860</td>\n",
       "      <td>-0.044457</td>\n",
       "      <td>-0.030730</td>\n",
       "      <td>-0.043872</td>\n",
       "      <td>-0.089588</td>\n",
       "      <td>-0.037255</td>\n",
       "      <td>-0.020946</td>\n",
       "      <td>-0.077065</td>\n",
       "      <td>-0.027126</td>\n",
       "      <td>...</td>\n",
       "      <td>0.011287</td>\n",
       "      <td>-0.062683</td>\n",
       "      <td>-0.029693</td>\n",
       "      <td>-0.098485</td>\n",
       "      <td>-0.052816</td>\n",
       "      <td>0.040971</td>\n",
       "      <td>-0.031504</td>\n",
       "      <td>0.045455</td>\n",
       "      <td>-0.024781</td>\n",
       "      <td>-0.071048</td>\n",
       "    </tr>\n",
       "    <tr>\n",
       "      <th>2018-03-31</th>\n",
       "      <td>0.117190</td>\n",
       "      <td>-0.068172</td>\n",
       "      <td>-0.023859</td>\n",
       "      <td>-0.009577</td>\n",
       "      <td>-0.114999</td>\n",
       "      <td>-0.066909</td>\n",
       "      <td>-0.073574</td>\n",
       "      <td>-0.067953</td>\n",
       "      <td>-0.034895</td>\n",
       "      <td>0.025047</td>\n",
       "      <td>...</td>\n",
       "      <td>0.030561</td>\n",
       "      <td>0.045625</td>\n",
       "      <td>-0.019721</td>\n",
       "      <td>-0.037380</td>\n",
       "      <td>-0.065643</td>\n",
       "      <td>-0.004585</td>\n",
       "      <td>0.004379</td>\n",
       "      <td>-0.131905</td>\n",
       "      <td>-0.103513</td>\n",
       "      <td>0.075192</td>\n",
       "    </tr>\n",
       "    <tr>\n",
       "      <th>2018-04-30</th>\n",
       "      <td>0.106793</td>\n",
       "      <td>0.026443</td>\n",
       "      <td>0.086133</td>\n",
       "      <td>0.012004</td>\n",
       "      <td>0.124757</td>\n",
       "      <td>0.071509</td>\n",
       "      <td>0.032939</td>\n",
       "      <td>0.038775</td>\n",
       "      <td>0.064523</td>\n",
       "      <td>0.025357</td>\n",
       "      <td>...</td>\n",
       "      <td>0.078391</td>\n",
       "      <td>0.032875</td>\n",
       "      <td>0.099549</td>\n",
       "      <td>0.008523</td>\n",
       "      <td>0.026227</td>\n",
       "      <td>0.095202</td>\n",
       "      <td>0.050448</td>\n",
       "      <td>0.036465</td>\n",
       "      <td>0.115048</td>\n",
       "      <td>-0.019608</td>\n",
       "    </tr>\n",
       "    <tr>\n",
       "      <th>2018-05-31</th>\n",
       "      <td>0.013703</td>\n",
       "      <td>-0.010734</td>\n",
       "      <td>-0.039743</td>\n",
       "      <td>0.118616</td>\n",
       "      <td>-0.068856</td>\n",
       "      <td>-0.132392</td>\n",
       "      <td>-0.109953</td>\n",
       "      <td>-0.050230</td>\n",
       "      <td>-0.099777</td>\n",
       "      <td>-0.023831</td>\n",
       "      <td>...</td>\n",
       "      <td>0.003826</td>\n",
       "      <td>-0.036458</td>\n",
       "      <td>0.028707</td>\n",
       "      <td>-0.115893</td>\n",
       "      <td>-0.143867</td>\n",
       "      <td>-0.077813</td>\n",
       "      <td>-0.105063</td>\n",
       "      <td>-0.030928</td>\n",
       "      <td>-0.054206</td>\n",
       "      <td>0.035455</td>\n",
       "    </tr>\n",
       "    <tr>\n",
       "      <th>2018-06-30</th>\n",
       "      <td>0.002244</td>\n",
       "      <td>-0.015625</td>\n",
       "      <td>-0.053561</td>\n",
       "      <td>0.005279</td>\n",
       "      <td>0.143356</td>\n",
       "      <td>0.040247</td>\n",
       "      <td>-0.012015</td>\n",
       "      <td>0.019619</td>\n",
       "      <td>0.019252</td>\n",
       "      <td>-0.005067</td>\n",
       "      <td>...</td>\n",
       "      <td>0.080515</td>\n",
       "      <td>0.086968</td>\n",
       "      <td>0.058451</td>\n",
       "      <td>-0.001739</td>\n",
       "      <td>-0.001739</td>\n",
       "      <td>-0.125428</td>\n",
       "      <td>-0.009725</td>\n",
       "      <td>-0.063051</td>\n",
       "      <td>0.090514</td>\n",
       "      <td>0.024583</td>\n",
       "    </tr>\n",
       "  </tbody>\n",
       "</table>\n",
       "<p>5 rows × 33 columns</p>\n",
       "</div>"
      ],
      "text/plain": [
       "                 ACS       ACX      AENA       AMS       ANA      BBVA  \\\n",
       "2018-02-28 -0.121823  0.027860 -0.044457 -0.030730 -0.043872 -0.089588   \n",
       "2018-03-31  0.117190 -0.068172 -0.023859 -0.009577 -0.114999 -0.066909   \n",
       "2018-04-30  0.106793  0.026443  0.086133  0.012004  0.124757  0.071509   \n",
       "2018-05-31  0.013703 -0.010734 -0.039743  0.118616 -0.068856 -0.132392   \n",
       "2018-06-30  0.002244 -0.015625 -0.053561  0.005279  0.143356  0.040247   \n",
       "\n",
       "                BKIA       BKT      CABK      CLNX  ...      NTGY       REE  \\\n",
       "2018-02-28 -0.037255 -0.020946 -0.077065 -0.027126  ...  0.011287 -0.062683   \n",
       "2018-03-31 -0.073574 -0.067953 -0.034895  0.025047  ...  0.030561  0.045625   \n",
       "2018-04-30  0.032939  0.038775  0.064523  0.025357  ...  0.078391  0.032875   \n",
       "2018-05-31 -0.109953 -0.050230 -0.099777 -0.023831  ...  0.003826 -0.036458   \n",
       "2018-06-30 -0.012015  0.019619  0.019252 -0.005067  ...  0.080515  0.086968   \n",
       "\n",
       "                 REP       SAB       SAN      SGRE       TEF       TL5  \\\n",
       "2018-02-28 -0.029693 -0.098485 -0.052816  0.040971 -0.031504  0.045455   \n",
       "2018-03-31 -0.019721 -0.037380 -0.065643 -0.004585  0.004379 -0.131905   \n",
       "2018-04-30  0.099549  0.008523  0.026227  0.095202  0.050448  0.036465   \n",
       "2018-05-31  0.028707 -0.115893 -0.143867 -0.077813 -0.105063 -0.030928   \n",
       "2018-06-30  0.058451 -0.001739 -0.001739 -0.125428 -0.009725 -0.063051   \n",
       "\n",
       "                 TRE       VIS  \n",
       "2018-02-28 -0.024781 -0.071048  \n",
       "2018-03-31 -0.103513  0.075192  \n",
       "2018-04-30  0.115048 -0.019608  \n",
       "2018-05-31 -0.054206  0.035455  \n",
       "2018-06-30  0.090514  0.024583  \n",
       "\n",
       "[5 rows x 33 columns]"
      ]
     },
     "execution_count": 7,
     "metadata": {},
     "output_type": "execute_result"
    }
   ],
   "source": [
    "month_ret.head()"
   ]
  },
  {
   "cell_type": "code",
   "execution_count": 8,
   "metadata": {},
   "outputs": [
    {
     "data": {
      "text/html": [
       "<div>\n",
       "<style scoped>\n",
       "    .dataframe tbody tr th:only-of-type {\n",
       "        vertical-align: middle;\n",
       "    }\n",
       "\n",
       "    .dataframe tbody tr th {\n",
       "        vertical-align: top;\n",
       "    }\n",
       "\n",
       "    .dataframe thead th {\n",
       "        text-align: right;\n",
       "    }\n",
       "</style>\n",
       "<table border=\"1\" class=\"dataframe\">\n",
       "  <thead>\n",
       "    <tr style=\"text-align: right;\">\n",
       "      <th></th>\n",
       "      <th>2018-02-28</th>\n",
       "      <th>2018-03-31</th>\n",
       "      <th>2018-04-30</th>\n",
       "      <th>2018-05-31</th>\n",
       "      <th>2018-06-30</th>\n",
       "      <th>2018-07-31</th>\n",
       "      <th>2018-08-31</th>\n",
       "      <th>2018-09-30</th>\n",
       "      <th>2018-10-31</th>\n",
       "      <th>2018-11-30</th>\n",
       "      <th>2018-12-31</th>\n",
       "      <th>2019-01-31</th>\n",
       "      <th>2019-02-28</th>\n",
       "      <th>2019-03-31</th>\n",
       "      <th>2019-04-30</th>\n",
       "      <th>2019-05-31</th>\n",
       "      <th>2019-06-30</th>\n",
       "    </tr>\n",
       "  </thead>\n",
       "  <tbody>\n",
       "    <tr>\n",
       "      <th>ACS</th>\n",
       "      <td>-0.121823</td>\n",
       "      <td>0.117190</td>\n",
       "      <td>0.106793</td>\n",
       "      <td>0.013703</td>\n",
       "      <td>0.002244</td>\n",
       "      <td>0.081268</td>\n",
       "      <td>-0.043710</td>\n",
       "      <td>0.022297</td>\n",
       "      <td>-0.097328</td>\n",
       "      <td>0.023256</td>\n",
       "      <td>-0.001476</td>\n",
       "      <td>0.081140</td>\n",
       "      <td>0.079778</td>\n",
       "      <td>0.004618</td>\n",
       "      <td>0.045199</td>\n",
       "      <td>-0.098461</td>\n",
       "      <td>0.033604</td>\n",
       "    </tr>\n",
       "    <tr>\n",
       "      <th>ACX</th>\n",
       "      <td>0.027860</td>\n",
       "      <td>-0.068172</td>\n",
       "      <td>0.026443</td>\n",
       "      <td>-0.010734</td>\n",
       "      <td>-0.015625</td>\n",
       "      <td>0.137037</td>\n",
       "      <td>-0.064242</td>\n",
       "      <td>0.063903</td>\n",
       "      <td>-0.199026</td>\n",
       "      <td>-0.108634</td>\n",
       "      <td>-0.015234</td>\n",
       "      <td>0.097206</td>\n",
       "      <td>-0.020623</td>\n",
       "      <td>-0.050924</td>\n",
       "      <td>0.049808</td>\n",
       "      <td>-0.087341</td>\n",
       "      <td>0.049486</td>\n",
       "    </tr>\n",
       "    <tr>\n",
       "      <th>AENA</th>\n",
       "      <td>-0.044457</td>\n",
       "      <td>-0.023859</td>\n",
       "      <td>0.086133</td>\n",
       "      <td>-0.039743</td>\n",
       "      <td>-0.053561</td>\n",
       "      <td>-0.000643</td>\n",
       "      <td>-0.018662</td>\n",
       "      <td>-0.019672</td>\n",
       "      <td>-0.055853</td>\n",
       "      <td>-0.006730</td>\n",
       "      <td>-0.031740</td>\n",
       "      <td>0.110866</td>\n",
       "      <td>0.040451</td>\n",
       "      <td>0.022945</td>\n",
       "      <td>0.075672</td>\n",
       "      <td>-0.002721</td>\n",
       "      <td>0.047301</td>\n",
       "    </tr>\n",
       "    <tr>\n",
       "      <th>AMS</th>\n",
       "      <td>-0.030730</td>\n",
       "      <td>-0.009577</td>\n",
       "      <td>0.012004</td>\n",
       "      <td>0.118616</td>\n",
       "      <td>0.005279</td>\n",
       "      <td>0.079882</td>\n",
       "      <td>0.094795</td>\n",
       "      <td>0.001251</td>\n",
       "      <td>-0.110472</td>\n",
       "      <td>-0.111267</td>\n",
       "      <td>-0.038255</td>\n",
       "      <td>0.052301</td>\n",
       "      <td>0.042848</td>\n",
       "      <td>0.078550</td>\n",
       "      <td>-0.006723</td>\n",
       "      <td>-0.036097</td>\n",
       "      <td>0.043885</td>\n",
       "    </tr>\n",
       "    <tr>\n",
       "      <th>ANA</th>\n",
       "      <td>-0.043872</td>\n",
       "      <td>-0.114999</td>\n",
       "      <td>0.124757</td>\n",
       "      <td>-0.068856</td>\n",
       "      <td>0.143356</td>\n",
       "      <td>0.036661</td>\n",
       "      <td>0.031556</td>\n",
       "      <td>0.029272</td>\n",
       "      <td>-0.044581</td>\n",
       "      <td>0.087423</td>\n",
       "      <td>-0.088779</td>\n",
       "      <td>0.124493</td>\n",
       "      <td>0.028159</td>\n",
       "      <td>0.162219</td>\n",
       "      <td>0.040282</td>\n",
       "      <td>-0.072120</td>\n",
       "      <td>0.048513</td>\n",
       "    </tr>\n",
       "  </tbody>\n",
       "</table>\n",
       "</div>"
      ],
      "text/plain": [
       "      2018-02-28  2018-03-31  2018-04-30  2018-05-31  2018-06-30  2018-07-31  \\\n",
       "ACS    -0.121823    0.117190    0.106793    0.013703    0.002244    0.081268   \n",
       "ACX     0.027860   -0.068172    0.026443   -0.010734   -0.015625    0.137037   \n",
       "AENA   -0.044457   -0.023859    0.086133   -0.039743   -0.053561   -0.000643   \n",
       "AMS    -0.030730   -0.009577    0.012004    0.118616    0.005279    0.079882   \n",
       "ANA    -0.043872   -0.114999    0.124757   -0.068856    0.143356    0.036661   \n",
       "\n",
       "      2018-08-31  2018-09-30  2018-10-31  2018-11-30  2018-12-31  2019-01-31  \\\n",
       "ACS    -0.043710    0.022297   -0.097328    0.023256   -0.001476    0.081140   \n",
       "ACX    -0.064242    0.063903   -0.199026   -0.108634   -0.015234    0.097206   \n",
       "AENA   -0.018662   -0.019672   -0.055853   -0.006730   -0.031740    0.110866   \n",
       "AMS     0.094795    0.001251   -0.110472   -0.111267   -0.038255    0.052301   \n",
       "ANA     0.031556    0.029272   -0.044581    0.087423   -0.088779    0.124493   \n",
       "\n",
       "      2019-02-28  2019-03-31  2019-04-30  2019-05-31  2019-06-30  \n",
       "ACS     0.079778    0.004618    0.045199   -0.098461    0.033604  \n",
       "ACX    -0.020623   -0.050924    0.049808   -0.087341    0.049486  \n",
       "AENA    0.040451    0.022945    0.075672   -0.002721    0.047301  \n",
       "AMS     0.042848    0.078550   -0.006723   -0.036097    0.043885  \n",
       "ANA     0.028159    0.162219    0.040282   -0.072120    0.048513  "
      ]
     },
     "execution_count": 8,
     "metadata": {},
     "output_type": "execute_result"
    }
   ],
   "source": [
    "features = month_ret.T\n",
    "features.head()"
   ]
  },
  {
   "cell_type": "code",
   "execution_count": 9,
   "metadata": {},
   "outputs": [
    {
     "data": {
      "text/plain": [
       "2018-02-28   -0.121823\n",
       "2018-03-31    0.117190\n",
       "2018-04-30    0.106793\n",
       "2018-05-31    0.013703\n",
       "2018-06-30    0.002244\n",
       "2018-07-31    0.081268\n",
       "2018-08-31   -0.043710\n",
       "2018-09-30    0.022297\n",
       "2018-10-31   -0.097328\n",
       "2018-11-30    0.023256\n",
       "2018-12-31   -0.001476\n",
       "2019-01-31    0.081140\n",
       "2019-02-28    0.079778\n",
       "2019-03-31    0.004618\n",
       "2019-04-30    0.045199\n",
       "2019-05-31   -0.098461\n",
       "2019-06-30    0.033604\n",
       "Freq: M, Name: ACS, dtype: float64"
      ]
     },
     "execution_count": 9,
     "metadata": {},
     "output_type": "execute_result"
    }
   ],
   "source": [
    "month_ret.ACS"
   ]
  },
  {
   "cell_type": "code",
   "execution_count": 10,
   "metadata": {},
   "outputs": [],
   "source": [
    "from sklearn.cluster import KMeans\n",
    "from sklearn.metrics import silhouette_samples, silhouette_score"
   ]
  },
  {
   "cell_type": "code",
   "execution_count": 11,
   "metadata": {},
   "outputs": [],
   "source": [
    "kmeans = KMeans(n_clusters=5)"
   ]
  },
  {
   "cell_type": "markdown",
   "metadata": {},
   "source": [
    "Las instancias son las empresas y las características los retornos mensuales"
   ]
  },
  {
   "cell_type": "code",
   "execution_count": 12,
   "metadata": {},
   "outputs": [
    {
     "data": {
      "text/plain": [
       "KMeans(n_clusters=5)"
      ]
     },
     "execution_count": 12,
     "metadata": {},
     "output_type": "execute_result"
    }
   ],
   "source": [
    "kmeans.fit(features)"
   ]
  },
  {
   "cell_type": "code",
   "execution_count": 13,
   "metadata": {},
   "outputs": [
    {
     "data": {
      "text/plain": [
       "array([3, 2, 0, 3, 1, 2, 2, 2, 2, 1, 1, 1, 1, 1, 3, 0, 1, 0, 0, 2, 0, 1,\n",
       "       2, 1, 1, 1, 2, 2, 4, 1, 0, 0, 3], dtype=int32)"
      ]
     },
     "execution_count": 13,
     "metadata": {},
     "output_type": "execute_result"
    }
   ],
   "source": [
    "kmeans.labels_"
   ]
  },
  {
   "cell_type": "code",
   "execution_count": 14,
   "metadata": {},
   "outputs": [],
   "source": [
    "grp_ibex = pd.Series(kmeans.labels_, index=features.index)"
   ]
  },
  {
   "cell_type": "code",
   "execution_count": 15,
   "metadata": {},
   "outputs": [
    {
     "data": {
      "text/plain": [
       "AENA    0\n",
       "TL5     0\n",
       "MEL     0\n",
       "ITX     0\n",
       "IDR     0\n",
       "TRE     0\n",
       "IAG     0\n",
       "IBE     1\n",
       "REP     1\n",
       "REE     1\n",
       "NTGY    1\n",
       "MRL     1\n",
       "TEF     1\n",
       "FER     1\n",
       "ENG     1\n",
       "ELE     1\n",
       "COL     1\n",
       "CLNX    1\n",
       "ANA     1\n",
       "CABK    2\n",
       "MAP     2\n",
       "BKT     2\n",
       "BKIA    2\n",
       "MTS     2\n",
       "BBVA    2\n",
       "ACX     2\n",
       "SAB     2\n",
       "SAN     2\n",
       "ACS     3\n",
       "GRF     3\n",
       "AMS     3\n",
       "VIS     3\n",
       "SGRE    4\n",
       "dtype: int32"
      ]
     },
     "execution_count": 15,
     "metadata": {},
     "output_type": "execute_result"
    }
   ],
   "source": [
    "grp_ibex.sort_values()"
   ]
  },
  {
   "cell_type": "code",
   "execution_count": 16,
   "metadata": {},
   "outputs": [],
   "source": [
    "grupos_dict = dict()\n",
    "for icluster in grp_ibex.unique():\n",
    "    grupos_dict[icluster] = list(grp_ibex[grp_ibex == icluster].index)\n"
   ]
  },
  {
   "cell_type": "code",
   "execution_count": 17,
   "metadata": {},
   "outputs": [
    {
     "data": {
      "text/plain": [
       "{3: ['ACS', 'AMS', 'GRF', 'VIS'],\n",
       " 2: ['ACX', 'BBVA', 'BKIA', 'BKT', 'CABK', 'MAP', 'MTS', 'SAB', 'SAN'],\n",
       " 0: ['AENA', 'IAG', 'IDR', 'ITX', 'MEL', 'TL5', 'TRE'],\n",
       " 1: ['ANA',\n",
       "  'CLNX',\n",
       "  'COL',\n",
       "  'ELE',\n",
       "  'ENG',\n",
       "  'FER',\n",
       "  'IBE',\n",
       "  'MRL',\n",
       "  'NTGY',\n",
       "  'REE',\n",
       "  'REP',\n",
       "  'TEF'],\n",
       " 4: ['SGRE']}"
      ]
     },
     "execution_count": 17,
     "metadata": {},
     "output_type": "execute_result"
    }
   ],
   "source": [
    "grupos_dict"
   ]
  },
  {
   "cell_type": "markdown",
   "metadata": {},
   "source": [
    "___"
   ]
  },
  {
   "cell_type": "markdown",
   "metadata": {},
   "source": [
    "#### Etiquetar a partir de un modelo de clustering"
   ]
  },
  {
   "cell_type": "markdown",
   "metadata": {},
   "source": [
    "Vamos a mostrar a que cluster asignamos a la empresa DAIMLER siguiendo el clustering que hemos creado para las empresas del IBEX"
   ]
  },
  {
   "cell_type": "code",
   "execution_count": 18,
   "metadata": {},
   "outputs": [],
   "source": [
    "daimler_df = pd.read_csv('../data/daimler.csv', index_col=0)"
   ]
  },
  {
   "cell_type": "code",
   "execution_count": 19,
   "metadata": {},
   "outputs": [
    {
     "data": {
      "text/html": [
       "<div>\n",
       "<style scoped>\n",
       "    .dataframe tbody tr th:only-of-type {\n",
       "        vertical-align: middle;\n",
       "    }\n",
       "\n",
       "    .dataframe tbody tr th {\n",
       "        vertical-align: top;\n",
       "    }\n",
       "\n",
       "    .dataframe thead th {\n",
       "        text-align: right;\n",
       "    }\n",
       "</style>\n",
       "<table border=\"1\" class=\"dataframe\">\n",
       "  <thead>\n",
       "    <tr style=\"text-align: right;\">\n",
       "      <th></th>\n",
       "      <th>open</th>\n",
       "      <th>high</th>\n",
       "      <th>low</th>\n",
       "      <th>close</th>\n",
       "      <th>vol</th>\n",
       "    </tr>\n",
       "  </thead>\n",
       "  <tbody>\n",
       "    <tr>\n",
       "      <th>2010-01-04</th>\n",
       "      <td>37.220</td>\n",
       "      <td>37.610</td>\n",
       "      <td>37.040</td>\n",
       "      <td>37.505</td>\n",
       "      <td>38864</td>\n",
       "    </tr>\n",
       "    <tr>\n",
       "      <th>2010-01-05</th>\n",
       "      <td>37.400</td>\n",
       "      <td>37.520</td>\n",
       "      <td>36.895</td>\n",
       "      <td>37.295</td>\n",
       "      <td>21535</td>\n",
       "    </tr>\n",
       "    <tr>\n",
       "      <th>2010-01-06</th>\n",
       "      <td>37.110</td>\n",
       "      <td>37.280</td>\n",
       "      <td>36.650</td>\n",
       "      <td>37.170</td>\n",
       "      <td>17436</td>\n",
       "    </tr>\n",
       "    <tr>\n",
       "      <th>2010-01-07</th>\n",
       "      <td>36.850</td>\n",
       "      <td>36.850</td>\n",
       "      <td>36.355</td>\n",
       "      <td>36.830</td>\n",
       "      <td>36455</td>\n",
       "    </tr>\n",
       "    <tr>\n",
       "      <th>2010-01-08</th>\n",
       "      <td>36.950</td>\n",
       "      <td>37.115</td>\n",
       "      <td>36.295</td>\n",
       "      <td>36.840</td>\n",
       "      <td>32034</td>\n",
       "    </tr>\n",
       "    <tr>\n",
       "      <th>...</th>\n",
       "      <td>...</td>\n",
       "      <td>...</td>\n",
       "      <td>...</td>\n",
       "      <td>...</td>\n",
       "      <td>...</td>\n",
       "    </tr>\n",
       "    <tr>\n",
       "      <th>2019-06-24</th>\n",
       "      <td>46.810</td>\n",
       "      <td>48.200</td>\n",
       "      <td>46.720</td>\n",
       "      <td>47.815</td>\n",
       "      <td>20471</td>\n",
       "    </tr>\n",
       "    <tr>\n",
       "      <th>2019-06-25</th>\n",
       "      <td>47.550</td>\n",
       "      <td>47.635</td>\n",
       "      <td>47.250</td>\n",
       "      <td>47.525</td>\n",
       "      <td>11895</td>\n",
       "    </tr>\n",
       "    <tr>\n",
       "      <th>2019-06-26</th>\n",
       "      <td>47.495</td>\n",
       "      <td>48.350</td>\n",
       "      <td>47.340</td>\n",
       "      <td>48.000</td>\n",
       "      <td>7370</td>\n",
       "    </tr>\n",
       "    <tr>\n",
       "      <th>2019-06-27</th>\n",
       "      <td>48.345</td>\n",
       "      <td>49.000</td>\n",
       "      <td>48.155</td>\n",
       "      <td>48.305</td>\n",
       "      <td>6848</td>\n",
       "    </tr>\n",
       "    <tr>\n",
       "      <th>2019-06-28</th>\n",
       "      <td>48.355</td>\n",
       "      <td>49.165</td>\n",
       "      <td>48.355</td>\n",
       "      <td>49.035</td>\n",
       "      <td>5885</td>\n",
       "    </tr>\n",
       "  </tbody>\n",
       "</table>\n",
       "<p>2409 rows × 5 columns</p>\n",
       "</div>"
      ],
      "text/plain": [
       "              open    high     low   close    vol\n",
       "2010-01-04  37.220  37.610  37.040  37.505  38864\n",
       "2010-01-05  37.400  37.520  36.895  37.295  21535\n",
       "2010-01-06  37.110  37.280  36.650  37.170  17436\n",
       "2010-01-07  36.850  36.850  36.355  36.830  36455\n",
       "2010-01-08  36.950  37.115  36.295  36.840  32034\n",
       "...            ...     ...     ...     ...    ...\n",
       "2019-06-24  46.810  48.200  46.720  47.815  20471\n",
       "2019-06-25  47.550  47.635  47.250  47.525  11895\n",
       "2019-06-26  47.495  48.350  47.340  48.000   7370\n",
       "2019-06-27  48.345  49.000  48.155  48.305   6848\n",
       "2019-06-28  48.355  49.165  48.355  49.035   5885\n",
       "\n",
       "[2409 rows x 5 columns]"
      ]
     },
     "execution_count": 19,
     "metadata": {},
     "output_type": "execute_result"
    }
   ],
   "source": [
    "daimler_df.set_index(pd.DatetimeIndex(daimler_df.index), inplace=True)\n",
    "daimler_df"
   ]
  },
  {
   "cell_type": "markdown",
   "metadata": {},
   "source": [
    "Tenemos que generar las mismas características para el ejemplo a etiquetar"
   ]
  },
  {
   "cell_type": "code",
   "execution_count": 20,
   "metadata": {},
   "outputs": [],
   "source": [
    "dai_close = daimler_df.close['2018-01-02':]"
   ]
  },
  {
   "cell_type": "code",
   "execution_count": 21,
   "metadata": {},
   "outputs": [],
   "source": [
    "month_dai = dai_close.resample('M').last()\n",
    "month_dai_ret = month_dai.pct_change()[1:]"
   ]
  },
  {
   "cell_type": "code",
   "execution_count": 22,
   "metadata": {},
   "outputs": [
    {
     "data": {
      "text/html": [
       "<div>\n",
       "<style scoped>\n",
       "    .dataframe tbody tr th:only-of-type {\n",
       "        vertical-align: middle;\n",
       "    }\n",
       "\n",
       "    .dataframe tbody tr th {\n",
       "        vertical-align: top;\n",
       "    }\n",
       "\n",
       "    .dataframe thead th {\n",
       "        text-align: right;\n",
       "    }\n",
       "</style>\n",
       "<table border=\"1\" class=\"dataframe\">\n",
       "  <thead>\n",
       "    <tr style=\"text-align: right;\">\n",
       "      <th></th>\n",
       "      <th>2018-02-28</th>\n",
       "      <th>2018-03-31</th>\n",
       "      <th>2018-04-30</th>\n",
       "      <th>2018-05-31</th>\n",
       "      <th>2018-06-30</th>\n",
       "      <th>2018-07-31</th>\n",
       "      <th>2018-08-31</th>\n",
       "      <th>2018-09-30</th>\n",
       "      <th>2018-10-31</th>\n",
       "      <th>2018-11-30</th>\n",
       "      <th>2018-12-31</th>\n",
       "      <th>2019-01-31</th>\n",
       "      <th>2019-02-28</th>\n",
       "      <th>2019-03-31</th>\n",
       "      <th>2019-04-30</th>\n",
       "      <th>2019-05-31</th>\n",
       "      <th>2019-06-30</th>\n",
       "    </tr>\n",
       "  </thead>\n",
       "  <tbody>\n",
       "    <tr>\n",
       "      <th>close</th>\n",
       "      <td>-0.044913</td>\n",
       "      <td>-0.021671</td>\n",
       "      <td>-0.055451</td>\n",
       "      <td>-0.055641</td>\n",
       "      <td>-0.101932</td>\n",
       "      <td>0.073378</td>\n",
       "      <td>-0.061963</td>\n",
       "      <td>-0.023335</td>\n",
       "      <td>-0.030142</td>\n",
       "      <td>-0.053724</td>\n",
       "      <td>-0.083108</td>\n",
       "      <td>0.133996</td>\n",
       "      <td>0.01926</td>\n",
       "      <td>-0.013605</td>\n",
       "      <td>0.11954</td>\n",
       "      <td>-0.206793</td>\n",
       "      <td>0.057815</td>\n",
       "    </tr>\n",
       "  </tbody>\n",
       "</table>\n",
       "</div>"
      ],
      "text/plain": [
       "       2018-02-28  2018-03-31  2018-04-30  2018-05-31  2018-06-30  2018-07-31  \\\n",
       "close   -0.044913   -0.021671   -0.055451   -0.055641   -0.101932    0.073378   \n",
       "\n",
       "       2018-08-31  2018-09-30  2018-10-31  2018-11-30  2018-12-31  2019-01-31  \\\n",
       "close   -0.061963   -0.023335   -0.030142   -0.053724   -0.083108    0.133996   \n",
       "\n",
       "       2019-02-28  2019-03-31  2019-04-30  2019-05-31  2019-06-30  \n",
       "close     0.01926   -0.013605     0.11954   -0.206793    0.057815  "
      ]
     },
     "execution_count": 22,
     "metadata": {},
     "output_type": "execute_result"
    }
   ],
   "source": [
    "month_dai_ret.to_frame().T"
   ]
  },
  {
   "cell_type": "code",
   "execution_count": 23,
   "metadata": {},
   "outputs": [
    {
     "data": {
      "text/plain": [
       "array([[-0.04491342, -0.02167139, -0.05545099, -0.05564071, -0.1019315 ,\n",
       "         0.07337791, -0.06196329, -0.02333513, -0.03014152, -0.05372371,\n",
       "        -0.08310804,  0.13399585,  0.0192604 , -0.01360544,  0.11954023,\n",
       "        -0.20679329,  0.05781469]])"
      ]
     },
     "execution_count": 23,
     "metadata": {},
     "output_type": "execute_result"
    }
   ],
   "source": [
    "x_test = month_dai_ret.values.reshape(1,-1)\n",
    "x_test"
   ]
  },
  {
   "cell_type": "markdown",
   "metadata": {},
   "source": [
    "Calculamos el cluster asignado con la función *predict*"
   ]
  },
  {
   "cell_type": "code",
   "execution_count": 24,
   "metadata": {},
   "outputs": [
    {
     "data": {
      "text/plain": [
       "array([0], dtype=int32)"
      ]
     },
     "execution_count": 24,
     "metadata": {},
     "output_type": "execute_result"
    }
   ],
   "source": [
    "kmeans.predict(x_test)"
   ]
  }
 ],
 "metadata": {
  "interpreter": {
   "hash": "408b48951804fa4b88b53768b37306a6cb2325d714da557f064422e7ef20b71a"
  },
  "kernelspec": {
   "display_name": "Python 3.8.8 ('base')",
   "language": "python",
   "name": "python3"
  },
  "language_info": {
   "codemirror_mode": {
    "name": "ipython",
    "version": 3
   },
   "file_extension": ".py",
   "mimetype": "text/x-python",
   "name": "python",
   "nbconvert_exporter": "python",
   "pygments_lexer": "ipython3",
   "version": "3.8.8"
  }
 },
 "nbformat": 4,
 "nbformat_minor": 4
}
